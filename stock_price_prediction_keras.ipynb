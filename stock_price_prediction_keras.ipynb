{
  "cells": [
    {
      "cell_type": "markdown",
      "metadata": {
        "colab_type": "text",
        "id": "view-in-github"
      },
      "source": [
        "<a href=\"https://colab.research.google.com/github/rawar/tensorflow-notebooks/blob/master/stock_price_prediction_keras.ipynb\" target=\"_parent\"><img src=\"https://colab.research.google.com/assets/colab-badge.svg\" alt=\"Open In Colab\"/></a>"
      ]
    },
    {
      "cell_type": "markdown",
      "metadata": {
        "colab_type": "text",
        "id": "EgaNRy_Rq0wx"
      },
      "source": [
        "# Predict stock prices  with Long short-term memory (LSTM)"
      ]
    },
    {
      "cell_type": "code",
      "execution_count": 1,
      "metadata": {
        "colab": {
          "base_uri": "https://localhost:8080/",
          "height": 440
        },
        "colab_type": "code",
        "id": "QSG622MbwEOJ",
        "outputId": "d8b8dfef-ad87-4ef1-f3e5-d935eac50d37"
      },
      "outputs": [
        {
          "name": "stdout",
          "output_type": "stream",
          "text": [
            "Requirement already satisfied: tensorflow-gpu==2.0.0-alpha0 in /usr/local/lib/python3.6/dist-packages (2.0.0a0)\n",
            "Requirement already satisfied: absl-py>=0.7.0 in /usr/local/lib/python3.6/dist-packages (from tensorflow-gpu==2.0.0-alpha0) (0.7.1)\n",
            "Requirement already satisfied: astor>=0.6.0 in /usr/local/lib/python3.6/dist-packages (from tensorflow-gpu==2.0.0-alpha0) (0.7.1)\n",
            "Requirement already satisfied: google-pasta>=0.1.2 in /usr/local/lib/python3.6/dist-packages (from tensorflow-gpu==2.0.0-alpha0) (0.1.5)\n",
            "Requirement already satisfied: gast>=0.2.0 in /usr/local/lib/python3.6/dist-packages (from tensorflow-gpu==2.0.0-alpha0) (0.2.2)\n",
            "Requirement already satisfied: keras-preprocessing>=1.0.5 in /usr/local/lib/python3.6/dist-packages (from tensorflow-gpu==2.0.0-alpha0) (1.0.9)\n",
            "Requirement already satisfied: tb-nightly<1.14.0a20190302,>=1.14.0a20190301 in /usr/local/lib/python3.6/dist-packages (from tensorflow-gpu==2.0.0-alpha0) (1.14.0a20190301)\n",
            "Requirement already satisfied: tf-estimator-nightly<1.14.0.dev2019030116,>=1.14.0.dev2019030115 in /usr/local/lib/python3.6/dist-packages (from tensorflow-gpu==2.0.0-alpha0) (1.14.0.dev2019030115)\n",
            "Requirement already satisfied: wheel>=0.26 in /usr/local/lib/python3.6/dist-packages (from tensorflow-gpu==2.0.0-alpha0) (0.33.1)\n",
            "Requirement already satisfied: keras-applications>=1.0.6 in /usr/local/lib/python3.6/dist-packages (from tensorflow-gpu==2.0.0-alpha0) (1.0.7)\n",
            "Requirement already satisfied: protobuf>=3.6.1 in /usr/local/lib/python3.6/dist-packages (from tensorflow-gpu==2.0.0-alpha0) (3.7.1)\n",
            "Requirement already satisfied: six>=1.10.0 in /usr/local/lib/python3.6/dist-packages (from tensorflow-gpu==2.0.0-alpha0) (1.11.0)\n",
            "Requirement already satisfied: termcolor>=1.1.0 in /usr/local/lib/python3.6/dist-packages (from tensorflow-gpu==2.0.0-alpha0) (1.1.0)\n",
            "Requirement already satisfied: grpcio>=1.8.6 in /usr/local/lib/python3.6/dist-packages (from tensorflow-gpu==2.0.0-alpha0) (1.15.0)\n",
            "Requirement already satisfied: numpy<2.0,>=1.14.5 in /usr/local/lib/python3.6/dist-packages (from tensorflow-gpu==2.0.0-alpha0) (1.16.2)\n",
            "Requirement already satisfied: markdown>=2.6.8 in /usr/local/lib/python3.6/dist-packages (from tb-nightly<1.14.0a20190302,>=1.14.0a20190301->tensorflow-gpu==2.0.0-alpha0) (3.1)\n",
            "Requirement already satisfied: werkzeug>=0.11.15 in /usr/local/lib/python3.6/dist-packages (from tb-nightly<1.14.0a20190302,>=1.14.0a20190301->tensorflow-gpu==2.0.0-alpha0) (0.15.2)\n",
            "Requirement already satisfied: h5py in /usr/local/lib/python3.6/dist-packages (from keras-applications>=1.0.6->tensorflow-gpu==2.0.0-alpha0) (2.8.0)\n",
            "Requirement already satisfied: setuptools in /usr/local/lib/python3.6/dist-packages (from protobuf>=3.6.1->tensorflow-gpu==2.0.0-alpha0) (40.9.0)\n"
          ]
        }
      ],
      "source": [
        "!pip install tensorflow-gpu==2.0.0-alpha0"
      ]
    },
    {
      "cell_type": "code",
      "execution_count": 2,
      "metadata": {
        "colab": {
          "base_uri": "https://localhost:8080/",
          "height": 336
        },
        "colab_type": "code",
        "id": "fmR4lwm81Vbr",
        "outputId": "41cd2608-3e63-48e0-f141-ab985099ed86"
      },
      "outputs": [
        {
          "name": "stdout",
          "output_type": "stream",
          "text": [
            "Requirement already satisfied: pandas-datareader in /usr/local/lib/python3.6/dist-packages (0.7.0)\n",
            "Requirement already satisfied: pandas>=0.19.2 in /usr/local/lib/python3.6/dist-packages (from pandas-datareader) (0.23.4)\n",
            "Requirement already satisfied: lxml in /usr/local/lib/python3.6/dist-packages (from pandas-datareader) (4.2.6)\n",
            "Requirement already satisfied: wrapt in /usr/local/lib/python3.6/dist-packages (from pandas-datareader) (1.10.11)\n",
            "Requirement already satisfied: requests>=2.3.0 in /usr/local/lib/python3.6/dist-packages (from pandas-datareader) (2.18.4)\n",
            "Requirement already satisfied: numpy>=1.9.0 in /usr/local/lib/python3.6/dist-packages (from pandas>=0.19.2->pandas-datareader) (1.16.2)\n",
            "Requirement already satisfied: python-dateutil>=2.5.0 in /usr/local/lib/python3.6/dist-packages (from pandas>=0.19.2->pandas-datareader) (2.5.3)\n",
            "Requirement already satisfied: pytz>=2011k in /usr/local/lib/python3.6/dist-packages (from pandas>=0.19.2->pandas-datareader) (2018.9)\n",
            "Requirement already satisfied: urllib3<1.23,>=1.21.1 in /usr/local/lib/python3.6/dist-packages (from requests>=2.3.0->pandas-datareader) (1.22)\n",
            "Requirement already satisfied: idna<2.7,>=2.5 in /usr/local/lib/python3.6/dist-packages (from requests>=2.3.0->pandas-datareader) (2.6)\n",
            "Requirement already satisfied: chardet<3.1.0,>=3.0.2 in /usr/local/lib/python3.6/dist-packages (from requests>=2.3.0->pandas-datareader) (3.0.4)\n",
            "Requirement already satisfied: certifi>=2017.4.17 in /usr/local/lib/python3.6/dist-packages (from requests>=2.3.0->pandas-datareader) (2019.3.9)\n",
            "Requirement already satisfied: six>=1.5 in /usr/local/lib/python3.6/dist-packages (from python-dateutil>=2.5.0->pandas>=0.19.2->pandas-datareader) (1.11.0)\n"
          ]
        }
      ],
      "source": [
        "!pip install pandas-datareader"
      ]
    },
    {
      "cell_type": "code",
      "execution_count": 3,
      "metadata": {
        "colab": {
          "base_uri": "https://localhost:8080/",
          "height": 248
        },
        "colab_type": "code",
        "id": "hqWZAabeiLc_",
        "outputId": "2212c7d1-8f7e-4743-8da5-96d67e311cd6"
      },
      "outputs": [
        {
          "name": "stdout",
          "output_type": "stream",
          "text": [
            "Reading package lists... Done\n",
            "Building dependency tree       \n",
            "Reading state information... Done\n",
            "graphviz is already the newest version (2.40.1-2).\n",
            "The following package was automatically installed and is no longer required:\n",
            "  libnvidia-common-410\n",
            "Use 'apt autoremove' to remove it.\n",
            "0 upgraded, 0 newly installed, 0 to remove and 6 not upgraded.\n"
          ]
        }
      ],
      "source": [
        "!apt install graphviz"
      ]
    },
    {
      "cell_type": "code",
      "execution_count": 4,
      "metadata": {
        "colab": {
          "base_uri": "https://localhost:8080/",
          "height": 185
        },
        "colab_type": "code",
        "id": "K5Wmmx6-iPUT",
        "outputId": "26040899-2528-483d-fff7-b27605078dd2"
      },
      "outputs": [
        {
          "name": "stdout",
          "output_type": "stream",
          "text": [
            "Requirement already satisfied: pydot in /usr/local/lib/python3.6/dist-packages (1.3.0)\n",
            "Requirement already satisfied: pydot-ng in /usr/local/lib/python3.6/dist-packages (2.0.0)\n",
            "Requirement already satisfied: pyparsing>=2.1.4 in /usr/local/lib/python3.6/dist-packages (from pydot) (2.4.0)\n"
          ]
        }
      ],
      "source": [
        "!pip install pydot pydot-ng"
      ]
    },
    {
      "cell_type": "markdown",
      "metadata": {
        "colab_type": "text",
        "id": "Fcl6EKdTv51W"
      },
      "source": [
        "## Introduction"
      ]
    },
    {
      "cell_type": "markdown",
      "metadata": {
        "colab_type": "text",
        "id": "Rui0kjzEvXTV"
      },
      "source": [
        "LSTMs are very powerful in sequence prediction problems. They can store past information."
      ]
    },
    {
      "cell_type": "markdown",
      "metadata": {
        "colab_type": "text",
        "id": "Ed7_c04-vz2f"
      },
      "source": [
        "## Loading the dataset\n",
        "I use pandas-datareader to get the historical stock prices from Yahoo! finance. For this example, I get only the historical data till the end of *training_end_data*.  "
      ]
    },
    {
      "cell_type": "code",
      "execution_count": 0,
      "metadata": {
        "colab": {},
        "colab_type": "code",
        "id": "Hh-pO_QXqysJ"
      },
      "outputs": [],
      "source": [
        "import numpy as np\n",
        "import matplotlib.pyplot as plt\n",
        "import pandas as pd\n",
        "from pandas_datareader import data"
      ]
    },
    {
      "cell_type": "code",
      "execution_count": 0,
      "metadata": {
        "colab": {},
        "colab_type": "code",
        "id": "D8-w0eEtwnaj"
      },
      "outputs": [],
      "source": [
        "tickers = 'AAPL'\n",
        "\n",
        "start_date = '1980-12-01'\n",
        "end_date = '2018-12-31'\n",
        "\n",
        "stock_data = data.get_data_yahoo(tickers, start_date, end_date)"
      ]
    },
    {
      "cell_type": "code",
      "execution_count": 7,
      "metadata": {
        "colab": {
          "base_uri": "https://localhost:8080/",
          "height": 437
        },
        "colab_type": "code",
        "id": "Y2HpcDRd38on",
        "outputId": "ba7c7768-e873-4fdd-febc-afd0945cfd80"
      },
      "outputs": [
        {
          "data": {
            "text/html": [
              "<div>\n",
              "<style scoped>\n",
              "    .dataframe tbody tr th:only-of-type {\n",
              "        vertical-align: middle;\n",
              "    }\n",
              "\n",
              "    .dataframe tbody tr th {\n",
              "        vertical-align: top;\n",
              "    }\n",
              "\n",
              "    .dataframe thead th {\n",
              "        text-align: right;\n",
              "    }\n",
              "</style>\n",
              "<table border=\"1\" class=\"dataframe\">\n",
              "  <thead>\n",
              "    <tr style=\"text-align: right;\">\n",
              "      <th></th>\n",
              "      <th>High</th>\n",
              "      <th>Low</th>\n",
              "      <th>Open</th>\n",
              "      <th>Close</th>\n",
              "      <th>Volume</th>\n",
              "      <th>Adj Close</th>\n",
              "    </tr>\n",
              "    <tr>\n",
              "      <th>Date</th>\n",
              "      <th></th>\n",
              "      <th></th>\n",
              "      <th></th>\n",
              "      <th></th>\n",
              "      <th></th>\n",
              "      <th></th>\n",
              "    </tr>\n",
              "  </thead>\n",
              "  <tbody>\n",
              "    <tr>\n",
              "      <th>1980-12-12</th>\n",
              "      <td>0.515625</td>\n",
              "      <td>0.513393</td>\n",
              "      <td>0.513393</td>\n",
              "      <td>0.513393</td>\n",
              "      <td>117258400.0</td>\n",
              "      <td>0.023007</td>\n",
              "    </tr>\n",
              "    <tr>\n",
              "      <th>1980-12-15</th>\n",
              "      <td>0.488839</td>\n",
              "      <td>0.486607</td>\n",
              "      <td>0.488839</td>\n",
              "      <td>0.486607</td>\n",
              "      <td>43971200.0</td>\n",
              "      <td>0.021807</td>\n",
              "    </tr>\n",
              "    <tr>\n",
              "      <th>1980-12-16</th>\n",
              "      <td>0.453125</td>\n",
              "      <td>0.450893</td>\n",
              "      <td>0.453125</td>\n",
              "      <td>0.450893</td>\n",
              "      <td>26432000.0</td>\n",
              "      <td>0.020206</td>\n",
              "    </tr>\n",
              "    <tr>\n",
              "      <th>1980-12-17</th>\n",
              "      <td>0.464286</td>\n",
              "      <td>0.462054</td>\n",
              "      <td>0.462054</td>\n",
              "      <td>0.462054</td>\n",
              "      <td>21610400.0</td>\n",
              "      <td>0.020706</td>\n",
              "    </tr>\n",
              "    <tr>\n",
              "      <th>1980-12-18</th>\n",
              "      <td>0.477679</td>\n",
              "      <td>0.475446</td>\n",
              "      <td>0.475446</td>\n",
              "      <td>0.475446</td>\n",
              "      <td>18362400.0</td>\n",
              "      <td>0.021307</td>\n",
              "    </tr>\n",
              "    <tr>\n",
              "      <th>1980-12-19</th>\n",
              "      <td>0.506696</td>\n",
              "      <td>0.504464</td>\n",
              "      <td>0.504464</td>\n",
              "      <td>0.504464</td>\n",
              "      <td>12157600.0</td>\n",
              "      <td>0.022607</td>\n",
              "    </tr>\n",
              "    <tr>\n",
              "      <th>1980-12-22</th>\n",
              "      <td>0.531250</td>\n",
              "      <td>0.529018</td>\n",
              "      <td>0.529018</td>\n",
              "      <td>0.529018</td>\n",
              "      <td>9340800.0</td>\n",
              "      <td>0.023707</td>\n",
              "    </tr>\n",
              "    <tr>\n",
              "      <th>1980-12-23</th>\n",
              "      <td>0.553571</td>\n",
              "      <td>0.551339</td>\n",
              "      <td>0.551339</td>\n",
              "      <td>0.551339</td>\n",
              "      <td>11737600.0</td>\n",
              "      <td>0.024708</td>\n",
              "    </tr>\n",
              "    <tr>\n",
              "      <th>1980-12-24</th>\n",
              "      <td>0.582589</td>\n",
              "      <td>0.580357</td>\n",
              "      <td>0.580357</td>\n",
              "      <td>0.580357</td>\n",
              "      <td>12000800.0</td>\n",
              "      <td>0.026008</td>\n",
              "    </tr>\n",
              "    <tr>\n",
              "      <th>1980-12-26</th>\n",
              "      <td>0.636161</td>\n",
              "      <td>0.633929</td>\n",
              "      <td>0.633929</td>\n",
              "      <td>0.633929</td>\n",
              "      <td>13893600.0</td>\n",
              "      <td>0.028409</td>\n",
              "    </tr>\n",
              "  </tbody>\n",
              "</table>\n",
              "</div>"
            ],
            "text/plain": [
              "                High       Low      Open     Close       Volume  Adj Close\n",
              "Date                                                                      \n",
              "1980-12-12  0.515625  0.513393  0.513393  0.513393  117258400.0   0.023007\n",
              "1980-12-15  0.488839  0.486607  0.488839  0.486607   43971200.0   0.021807\n",
              "1980-12-16  0.453125  0.450893  0.453125  0.450893   26432000.0   0.020206\n",
              "1980-12-17  0.464286  0.462054  0.462054  0.462054   21610400.0   0.020706\n",
              "1980-12-18  0.477679  0.475446  0.475446  0.475446   18362400.0   0.021307\n",
              "1980-12-19  0.506696  0.504464  0.504464  0.504464   12157600.0   0.022607\n",
              "1980-12-22  0.531250  0.529018  0.529018  0.529018    9340800.0   0.023707\n",
              "1980-12-23  0.553571  0.551339  0.551339  0.551339   11737600.0   0.024708\n",
              "1980-12-24  0.582589  0.580357  0.580357  0.580357   12000800.0   0.026008\n",
              "1980-12-26  0.636161  0.633929  0.633929  0.633929   13893600.0   0.028409"
            ]
          },
          "execution_count": 7,
          "metadata": {
            "tags": []
          },
          "output_type": "execute_result"
        }
      ],
      "source": [
        "stock_data.head(10)"
      ]
    },
    {
      "cell_type": "code",
      "execution_count": 8,
      "metadata": {
        "colab": {
          "base_uri": "https://localhost:8080/",
          "height": 344
        },
        "colab_type": "code",
        "id": "_0UQ1jU7MHYi",
        "outputId": "a02590a4-007b-4bba-d8f4-195e292a21e4"
      },
      "outputs": [
        {
          "data": {
            "text/html": [
              "<div>\n",
              "<style scoped>\n",
              "    .dataframe tbody tr th:only-of-type {\n",
              "        vertical-align: middle;\n",
              "    }\n",
              "\n",
              "    .dataframe tbody tr th {\n",
              "        vertical-align: top;\n",
              "    }\n",
              "\n",
              "    .dataframe thead th {\n",
              "        text-align: right;\n",
              "    }\n",
              "</style>\n",
              "<table border=\"1\" class=\"dataframe\">\n",
              "  <thead>\n",
              "    <tr style=\"text-align: right;\">\n",
              "      <th></th>\n",
              "      <th>High</th>\n",
              "      <th>Low</th>\n",
              "      <th>Open</th>\n",
              "      <th>Close</th>\n",
              "      <th>Volume</th>\n",
              "      <th>Adj Close</th>\n",
              "    </tr>\n",
              "  </thead>\n",
              "  <tbody>\n",
              "    <tr>\n",
              "      <th>count</th>\n",
              "      <td>9594.000000</td>\n",
              "      <td>9594.000000</td>\n",
              "      <td>9594.000000</td>\n",
              "      <td>9594.000000</td>\n",
              "      <td>9.594000e+03</td>\n",
              "      <td>9594.000000</td>\n",
              "    </tr>\n",
              "    <tr>\n",
              "      <th>mean</th>\n",
              "      <td>26.549240</td>\n",
              "      <td>26.026566</td>\n",
              "      <td>26.297032</td>\n",
              "      <td>26.292735</td>\n",
              "      <td>8.758682e+07</td>\n",
              "      <td>22.587725</td>\n",
              "    </tr>\n",
              "    <tr>\n",
              "      <th>std</th>\n",
              "      <td>47.280499</td>\n",
              "      <td>46.462657</td>\n",
              "      <td>46.880676</td>\n",
              "      <td>46.878276</td>\n",
              "      <td>8.676287e+07</td>\n",
              "      <td>44.664584</td>\n",
              "    </tr>\n",
              "    <tr>\n",
              "      <th>min</th>\n",
              "      <td>0.198661</td>\n",
              "      <td>0.196429</td>\n",
              "      <td>0.198661</td>\n",
              "      <td>0.196429</td>\n",
              "      <td>3.472000e+05</td>\n",
              "      <td>0.008803</td>\n",
              "    </tr>\n",
              "    <tr>\n",
              "      <th>25%</th>\n",
              "      <td>1.071429</td>\n",
              "      <td>1.031295</td>\n",
              "      <td>1.049464</td>\n",
              "      <td>1.051429</td>\n",
              "      <td>3.407435e+07</td>\n",
              "      <td>0.148196</td>\n",
              "    </tr>\n",
              "    <tr>\n",
              "      <th>50%</th>\n",
              "      <td>1.696429</td>\n",
              "      <td>1.633929</td>\n",
              "      <td>1.664286</td>\n",
              "      <td>1.665179</td>\n",
              "      <td>5.944890e+07</td>\n",
              "      <td>0.879176</td>\n",
              "    </tr>\n",
              "    <tr>\n",
              "      <th>75%</th>\n",
              "      <td>26.317500</td>\n",
              "      <td>25.404285</td>\n",
              "      <td>25.910000</td>\n",
              "      <td>25.841429</td>\n",
              "      <td>1.091926e+08</td>\n",
              "      <td>17.231145</td>\n",
              "    </tr>\n",
              "    <tr>\n",
              "      <th>max</th>\n",
              "      <td>233.470001</td>\n",
              "      <td>229.779999</td>\n",
              "      <td>230.779999</td>\n",
              "      <td>232.070007</td>\n",
              "      <td>1.855410e+09</td>\n",
              "      <td>230.275482</td>\n",
              "    </tr>\n",
              "  </tbody>\n",
              "</table>\n",
              "</div>"
            ],
            "text/plain": [
              "              High          Low         Open        Close        Volume  \\\n",
              "count  9594.000000  9594.000000  9594.000000  9594.000000  9.594000e+03   \n",
              "mean     26.549240    26.026566    26.297032    26.292735  8.758682e+07   \n",
              "std      47.280499    46.462657    46.880676    46.878276  8.676287e+07   \n",
              "min       0.198661     0.196429     0.198661     0.196429  3.472000e+05   \n",
              "25%       1.071429     1.031295     1.049464     1.051429  3.407435e+07   \n",
              "50%       1.696429     1.633929     1.664286     1.665179  5.944890e+07   \n",
              "75%      26.317500    25.404285    25.910000    25.841429  1.091926e+08   \n",
              "max     233.470001   229.779999   230.779999   232.070007  1.855410e+09   \n",
              "\n",
              "         Adj Close  \n",
              "count  9594.000000  \n",
              "mean     22.587725  \n",
              "std      44.664584  \n",
              "min       0.008803  \n",
              "25%       0.148196  \n",
              "50%       0.879176  \n",
              "75%      17.231145  \n",
              "max     230.275482  "
            ]
          },
          "execution_count": 8,
          "metadata": {
            "tags": []
          },
          "output_type": "execute_result"
        }
      ],
      "source": [
        "stock_data.describe()"
      ]
    },
    {
      "cell_type": "code",
      "execution_count": 9,
      "metadata": {
        "colab": {
          "base_uri": "https://localhost:8080/",
          "height": 76
        },
        "colab_type": "code",
        "id": "dFKhZw-YMM0w",
        "outputId": "da0e55e7-f722-415b-ee9e-937edd41a9c2"
      },
      "outputs": [
        {
          "name": "stdout",
          "output_type": "stream",
          "text": [
            "9594\n"
          ]
        }
      ],
      "source": [
        "stock_data_len = stock_data['Close'].count()\n",
        "print(stock_data_len)"
      ]
    },
    {
      "cell_type": "markdown",
      "metadata": {
        "colab_type": "text",
        "id": "6jzF16Qr4qOA"
      },
      "source": [
        "I'm only interested in *close* prices"
      ]
    },
    {
      "cell_type": "code",
      "execution_count": 10,
      "metadata": {
        "colab": {
          "base_uri": "https://localhost:8080/",
          "height": 180
        },
        "colab_type": "code",
        "id": "Ns7Zcn2ZClZS",
        "outputId": "dbae83f5-7bd4-4f55-bb48-d30a71bfa0c6"
      },
      "outputs": [
        {
          "name": "stdout",
          "output_type": "stream",
          "text": [
            "[[  0.51339287]\n",
            " [  0.48660713]\n",
            " [  0.45089287]\n",
            " ...\n",
            " [150.07000732]\n",
            " [154.55000305]\n",
            " [156.47999573]]\n"
          ]
        }
      ],
      "source": [
        "close_prices = stock_data.iloc[:, 1:2].values\n",
        "print(close_prices)"
      ]
    },
    {
      "cell_type": "markdown",
      "metadata": {
        "colab_type": "text",
        "id": "KNaLuS1X5IVA"
      },
      "source": [
        "Of course, some of the weekdays might be public holidays in which case no price will be available. For this reason, we will fill the missing prices with the latest available prices"
      ]
    },
    {
      "cell_type": "code",
      "execution_count": 11,
      "metadata": {
        "colab": {
          "base_uri": "https://localhost:8080/",
          "height": 199
        },
        "colab_type": "code",
        "id": "P6GTsn7N5Nf2",
        "outputId": "2c721324-d984-4df5-928c-accb5959e37e"
      },
      "outputs": [
        {
          "name": "stdout",
          "output_type": "stream",
          "text": [
            "DatetimeIndex(['1980-12-01', '1980-12-02', '1980-12-03', '1980-12-04',\n",
            "               '1980-12-05', '1980-12-08', '1980-12-09', '1980-12-10',\n",
            "               '1980-12-11', '1980-12-12',\n",
            "               ...\n",
            "               '2018-12-18', '2018-12-19', '2018-12-20', '2018-12-21',\n",
            "               '2018-12-24', '2018-12-25', '2018-12-26', '2018-12-27',\n",
            "               '2018-12-28', '2018-12-31'],\n",
            "              dtype='datetime64[ns]', length=9936, freq='B')\n"
          ]
        }
      ],
      "source": [
        "all_bussinessdays = pd.date_range(start=start_date, end=end_date, freq='B')\n",
        "print(all_bussinessdays)"
      ]
    },
    {
      "cell_type": "code",
      "execution_count": 0,
      "metadata": {
        "colab": {},
        "colab_type": "code",
        "id": "NDu-0h2i9MkT"
      },
      "outputs": [],
      "source": [
        "close_prices = stock_data.reindex(all_bussinessdays)\n",
        "close_prices = stock_data.fillna(method='ffill')"
      ]
    },
    {
      "cell_type": "code",
      "execution_count": 13,
      "metadata": {
        "colab": {
          "base_uri": "https://localhost:8080/",
          "height": 437
        },
        "colab_type": "code",
        "id": "xTieT-gC5e-p",
        "outputId": "a16fcc1e-d25d-4e95-c420-6379157eb4a3"
      },
      "outputs": [
        {
          "data": {
            "text/html": [
              "<div>\n",
              "<style scoped>\n",
              "    .dataframe tbody tr th:only-of-type {\n",
              "        vertical-align: middle;\n",
              "    }\n",
              "\n",
              "    .dataframe tbody tr th {\n",
              "        vertical-align: top;\n",
              "    }\n",
              "\n",
              "    .dataframe thead th {\n",
              "        text-align: right;\n",
              "    }\n",
              "</style>\n",
              "<table border=\"1\" class=\"dataframe\">\n",
              "  <thead>\n",
              "    <tr style=\"text-align: right;\">\n",
              "      <th></th>\n",
              "      <th>High</th>\n",
              "      <th>Low</th>\n",
              "      <th>Open</th>\n",
              "      <th>Close</th>\n",
              "      <th>Volume</th>\n",
              "      <th>Adj Close</th>\n",
              "    </tr>\n",
              "    <tr>\n",
              "      <th>Date</th>\n",
              "      <th></th>\n",
              "      <th></th>\n",
              "      <th></th>\n",
              "      <th></th>\n",
              "      <th></th>\n",
              "      <th></th>\n",
              "    </tr>\n",
              "  </thead>\n",
              "  <tbody>\n",
              "    <tr>\n",
              "      <th>1980-12-12</th>\n",
              "      <td>0.515625</td>\n",
              "      <td>0.513393</td>\n",
              "      <td>0.513393</td>\n",
              "      <td>0.513393</td>\n",
              "      <td>117258400.0</td>\n",
              "      <td>0.023007</td>\n",
              "    </tr>\n",
              "    <tr>\n",
              "      <th>1980-12-15</th>\n",
              "      <td>0.488839</td>\n",
              "      <td>0.486607</td>\n",
              "      <td>0.488839</td>\n",
              "      <td>0.486607</td>\n",
              "      <td>43971200.0</td>\n",
              "      <td>0.021807</td>\n",
              "    </tr>\n",
              "    <tr>\n",
              "      <th>1980-12-16</th>\n",
              "      <td>0.453125</td>\n",
              "      <td>0.450893</td>\n",
              "      <td>0.453125</td>\n",
              "      <td>0.450893</td>\n",
              "      <td>26432000.0</td>\n",
              "      <td>0.020206</td>\n",
              "    </tr>\n",
              "    <tr>\n",
              "      <th>1980-12-17</th>\n",
              "      <td>0.464286</td>\n",
              "      <td>0.462054</td>\n",
              "      <td>0.462054</td>\n",
              "      <td>0.462054</td>\n",
              "      <td>21610400.0</td>\n",
              "      <td>0.020706</td>\n",
              "    </tr>\n",
              "    <tr>\n",
              "      <th>1980-12-18</th>\n",
              "      <td>0.477679</td>\n",
              "      <td>0.475446</td>\n",
              "      <td>0.475446</td>\n",
              "      <td>0.475446</td>\n",
              "      <td>18362400.0</td>\n",
              "      <td>0.021307</td>\n",
              "    </tr>\n",
              "    <tr>\n",
              "      <th>1980-12-19</th>\n",
              "      <td>0.506696</td>\n",
              "      <td>0.504464</td>\n",
              "      <td>0.504464</td>\n",
              "      <td>0.504464</td>\n",
              "      <td>12157600.0</td>\n",
              "      <td>0.022607</td>\n",
              "    </tr>\n",
              "    <tr>\n",
              "      <th>1980-12-22</th>\n",
              "      <td>0.531250</td>\n",
              "      <td>0.529018</td>\n",
              "      <td>0.529018</td>\n",
              "      <td>0.529018</td>\n",
              "      <td>9340800.0</td>\n",
              "      <td>0.023707</td>\n",
              "    </tr>\n",
              "    <tr>\n",
              "      <th>1980-12-23</th>\n",
              "      <td>0.553571</td>\n",
              "      <td>0.551339</td>\n",
              "      <td>0.551339</td>\n",
              "      <td>0.551339</td>\n",
              "      <td>11737600.0</td>\n",
              "      <td>0.024708</td>\n",
              "    </tr>\n",
              "    <tr>\n",
              "      <th>1980-12-24</th>\n",
              "      <td>0.582589</td>\n",
              "      <td>0.580357</td>\n",
              "      <td>0.580357</td>\n",
              "      <td>0.580357</td>\n",
              "      <td>12000800.0</td>\n",
              "      <td>0.026008</td>\n",
              "    </tr>\n",
              "    <tr>\n",
              "      <th>1980-12-26</th>\n",
              "      <td>0.636161</td>\n",
              "      <td>0.633929</td>\n",
              "      <td>0.633929</td>\n",
              "      <td>0.633929</td>\n",
              "      <td>13893600.0</td>\n",
              "      <td>0.028409</td>\n",
              "    </tr>\n",
              "  </tbody>\n",
              "</table>\n",
              "</div>"
            ],
            "text/plain": [
              "                High       Low      Open     Close       Volume  Adj Close\n",
              "Date                                                                      \n",
              "1980-12-12  0.515625  0.513393  0.513393  0.513393  117258400.0   0.023007\n",
              "1980-12-15  0.488839  0.486607  0.488839  0.486607   43971200.0   0.021807\n",
              "1980-12-16  0.453125  0.450893  0.453125  0.450893   26432000.0   0.020206\n",
              "1980-12-17  0.464286  0.462054  0.462054  0.462054   21610400.0   0.020706\n",
              "1980-12-18  0.477679  0.475446  0.475446  0.475446   18362400.0   0.021307\n",
              "1980-12-19  0.506696  0.504464  0.504464  0.504464   12157600.0   0.022607\n",
              "1980-12-22  0.531250  0.529018  0.529018  0.529018    9340800.0   0.023707\n",
              "1980-12-23  0.553571  0.551339  0.551339  0.551339   11737600.0   0.024708\n",
              "1980-12-24  0.582589  0.580357  0.580357  0.580357   12000800.0   0.026008\n",
              "1980-12-26  0.636161  0.633929  0.633929  0.633929   13893600.0   0.028409"
            ]
          },
          "execution_count": 13,
          "metadata": {
            "tags": []
          },
          "output_type": "execute_result"
        }
      ],
      "source": [
        "close_prices.head(10)"
      ]
    },
    {
      "cell_type": "markdown",
      "metadata": {
        "colab_type": "text",
        "id": "06xfVbrD51Id"
      },
      "source": [
        "The dataset is now complete and free of missing values. Let's have a look to the data frame summary:"
      ]
    },
    {
      "cell_type": "markdown",
      "metadata": {
        "colab_type": "text",
        "id": "TR3_R4OF8pNo"
      },
      "source": [
        "## Feature scaling"
      ]
    },
    {
      "cell_type": "code",
      "execution_count": 0,
      "metadata": {
        "colab": {},
        "colab_type": "code",
        "id": "hFwPXHiU8rDv"
      },
      "outputs": [],
      "source": [
        "training_set = close_prices.iloc[:, 1:2].values"
      ]
    },
    {
      "cell_type": "code",
      "execution_count": 15,
      "metadata": {
        "colab": {
          "base_uri": "https://localhost:8080/",
          "height": 180
        },
        "colab_type": "code",
        "id": "GvPn9l4d-NyM",
        "outputId": "527eeb21-84d2-4818-c971-63369fba5cfa"
      },
      "outputs": [
        {
          "name": "stdout",
          "output_type": "stream",
          "text": [
            "[[  0.51339287]\n",
            " [  0.48660713]\n",
            " [  0.45089287]\n",
            " ...\n",
            " [150.07000732]\n",
            " [154.55000305]\n",
            " [156.47999573]]\n"
          ]
        }
      ],
      "source": [
        "print(training_set)"
      ]
    },
    {
      "cell_type": "code",
      "execution_count": 16,
      "metadata": {
        "colab": {
          "base_uri": "https://localhost:8080/",
          "height": 96
        },
        "colab_type": "code",
        "id": "c9TpiTPs9QtF",
        "outputId": "c4e0edfc-f000-44e2-8099-00dc9f60533d"
      },
      "outputs": [
        {
          "name": "stdout",
          "output_type": "stream",
          "text": [
            "(9594, 1)\n"
          ]
        }
      ],
      "source": [
        "from sklearn.preprocessing import MinMaxScaler\n",
        "sc = MinMaxScaler(feature_range = (0, 1))\n",
        "training_set_scaled = sc.fit_transform(training_set)\n",
        "print(training_set_scaled.shape)"
      ]
    },
    {
      "cell_type": "markdown",
      "metadata": {
        "colab_type": "text",
        "id": "NmYp53pYHeQu"
      },
      "source": [
        "LSTMs expect the data in a specific format, usually a 3D tensor. I start by creating data with 60 days and converting it into an array using NumPy. Next, I convert the data into a 3D dimension array with feature_set samples, 60 days and one feature at each step."
      ]
    },
    {
      "cell_type": "code",
      "execution_count": 0,
      "metadata": {
        "colab": {},
        "colab_type": "code",
        "id": "HSZBYUcIDfWV"
      },
      "outputs": [],
      "source": [
        "features = []\n",
        "labels = []\n",
        "for i in range(60, stock_data_len):\n",
        "    features.append(training_set_scaled[i-60:i, 0])\n",
        "    labels.append(training_set_scaled[i, 0])\n",
        "\n",
        "features = np.array(features)\n",
        "labels = np.array(labels)\n",
        "\n",
        "features = np.reshape(features, (features.shape[0], features.shape[1], 1))"
      ]
    },
    {
      "cell_type": "code",
      "execution_count": 18,
      "metadata": {
        "colab": {
          "base_uri": "https://localhost:8080/",
          "height": 76
        },
        "colab_type": "code",
        "id": "gi-GwAE_LDZm",
        "outputId": "2a9d22a3-9661-49f6-f9d8-462b4bedc3a2"
      },
      "outputs": [
        {
          "name": "stdout",
          "output_type": "stream",
          "text": [
            "[0.00082642 0.00089448 0.00087503 ... 0.6528062  0.67231978 0.68072627]\n"
          ]
        }
      ],
      "source": [
        "print(labels)"
      ]
    },
    {
      "cell_type": "code",
      "execution_count": 19,
      "metadata": {
        "colab": {
          "base_uri": "https://localhost:8080/",
          "height": 920
        },
        "colab_type": "code",
        "id": "atE8xU7HLuI2",
        "outputId": "c4c08eb4-e655-48d8-ff4b-10a01e6e66a1"
      },
      "outputs": [
        {
          "name": "stdout",
          "output_type": "stream",
          "text": [
            "[[[1.38060532e-03]\n",
            "  [1.26393438e-03]\n",
            "  [1.10837330e-03]\n",
            "  ...\n",
            "  [1.13754103e-03]\n",
            "  [9.81979819e-04]\n",
            "  [8.94476613e-04]]\n",
            "\n",
            " [[1.26393438e-03]\n",
            "  [1.10837330e-03]\n",
            "  [1.15698610e-03]\n",
            "  ...\n",
            "  [9.81979819e-04]\n",
            "  [8.94476613e-04]\n",
            "  [8.26418607e-04]]\n",
            "\n",
            " [[1.10837330e-03]\n",
            "  [1.15698610e-03]\n",
            "  [1.21532157e-03]\n",
            "  ...\n",
            "  [8.94476613e-04]\n",
            "  [8.26418607e-04]\n",
            "  [8.94476613e-04]]\n",
            "\n",
            " ...\n",
            "\n",
            " [[9.85059938e-01]\n",
            "  [9.86279533e-01]\n",
            "  [1.00000000e+00]\n",
            "  ...\n",
            "  [6.50889679e-01]\n",
            "  [6.37648276e-01]\n",
            "  [6.38214540e-01]]\n",
            "\n",
            " [[9.86279533e-01]\n",
            "  [1.00000000e+00]\n",
            "  [9.86715064e-01]\n",
            "  ...\n",
            "  [6.37648276e-01]\n",
            "  [6.38214540e-01]\n",
            "  [6.52806203e-01]]\n",
            "\n",
            " [[1.00000000e+00]\n",
            "  [9.86715064e-01]\n",
            "  [9.59927459e-01]\n",
            "  ...\n",
            "  [6.38214540e-01]\n",
            "  [6.52806203e-01]\n",
            "  [6.72319776e-01]]]\n"
          ]
        }
      ],
      "source": [
        "print(features)"
      ]
    },
    {
      "cell_type": "markdown",
      "metadata": {
        "colab_type": "text",
        "id": "tfK2gzVI_sTX"
      },
      "source": [
        "Feature tensor with three dimension: features[0] contains the ..., features[1] contains the last 60 days of values and features [2] contains the  ..."
      ]
    },
    {
      "cell_type": "code",
      "execution_count": 20,
      "metadata": {
        "colab": {
          "base_uri": "https://localhost:8080/",
          "height": 76
        },
        "colab_type": "code",
        "id": "VlzVripUIyCb",
        "outputId": "953aaa65-2d3d-421d-ce8c-87e3b3d93921"
      },
      "outputs": [
        {
          "name": "stdout",
          "output_type": "stream",
          "text": [
            "(9534, 60, 1)\n"
          ]
        }
      ],
      "source": [
        "print(features.shape)"
      ]
    },
    {
      "cell_type": "markdown",
      "metadata": {
        "colab_type": "text",
        "id": "-MQYJqsDGFYA"
      },
      "source": [
        "## Create the LSTM network\n",
        "Let's create a sequenced LSTM network with 50 units. Also the net includes some dropout layers with 0.2 which means that 20% of the neurons will be dropped."
      ]
    },
    {
      "cell_type": "code",
      "execution_count": 0,
      "metadata": {
        "colab": {},
        "colab_type": "code",
        "id": "057FLdkzDk1t"
      },
      "outputs": [],
      "source": [
        "import tensorflow as tf"
      ]
    },
    {
      "cell_type": "code",
      "execution_count": 22,
      "metadata": {
        "colab": {
          "base_uri": "https://localhost:8080/",
          "height": 165
        },
        "colab_type": "code",
        "id": "Tel113HiEcYE",
        "outputId": "9a174bee-e77c-47b6-b7d9-9f48dbf65568"
      },
      "outputs": [
        {
          "name": "stderr",
          "output_type": "stream",
          "text": [
            "WARNING: Logging before flag parsing goes to stderr.\n",
            "W0414 15:18:15.979501 139980101556096 tf_logging.py:161] <tensorflow.python.keras.layers.recurrent.UnifiedLSTM object at 0x7f4f34285860>: Note that this layer is not optimized for performance. Please use tf.keras.layers.CuDNNLSTM for better performance on GPU.\n",
            "W0414 15:18:16.001110 139980101556096 tf_logging.py:161] <tensorflow.python.keras.layers.recurrent.UnifiedLSTM object at 0x7f4f34285ef0>: Note that this layer is not optimized for performance. Please use tf.keras.layers.CuDNNLSTM for better performance on GPU.\n",
            "W0414 15:18:16.006853 139980101556096 tf_logging.py:161] <tensorflow.python.keras.layers.recurrent.UnifiedLSTM object at 0x7f4f342a6748>: Note that this layer is not optimized for performance. Please use tf.keras.layers.CuDNNLSTM for better performance on GPU.\n",
            "W0414 15:18:16.013553 139980101556096 tf_logging.py:161] <tensorflow.python.keras.layers.recurrent.UnifiedLSTM object at 0x7f4f342a6e48>: Note that this layer is not optimized for performance. Please use tf.keras.layers.CuDNNLSTM for better performance on GPU.\n"
          ]
        }
      ],
      "source": [
        "model = tf.keras.models.Sequential([\n",
        "    tf.keras.layers.LSTM(units = 50, return_sequences = True, input_shape = (features.shape[1], 1)),\n",
        "    tf.keras.layers.Dropout(0.2),\n",
        "    tf.keras.layers.LSTM(units = 50, return_sequences = True),\n",
        "    tf.keras.layers.Dropout(0.2),\n",
        "    tf.keras.layers.LSTM(units = 50, return_sequences = True),\n",
        "    tf.keras.layers.Dropout(0.2),\n",
        "    tf.keras.layers.LSTM(units = 50),\n",
        "    tf.keras.layers.Dropout(0.2),\n",
        "    tf.keras.layers.Dense(units = 1)\n",
        "])"
      ]
    },
    {
      "cell_type": "code",
      "execution_count": 23,
      "metadata": {
        "colab": {
          "base_uri": "https://localhost:8080/",
          "height": 532
        },
        "colab_type": "code",
        "id": "7nlzkKHiPuaR",
        "outputId": "6fa7775e-c4f6-479c-80d8-2dc36f3bf7fc"
      },
      "outputs": [
        {
          "name": "stdout",
          "output_type": "stream",
          "text": [
            "Model: \"sequential\"\n",
            "_________________________________________________________________\n",
            "Layer (type)                 Output Shape              Param #   \n",
            "=================================================================\n",
            "unified_lstm (UnifiedLSTM)   (None, 60, 50)            10400     \n",
            "_________________________________________________________________\n",
            "dropout (Dropout)            (None, 60, 50)            0         \n",
            "_________________________________________________________________\n",
            "unified_lstm_1 (UnifiedLSTM) (None, 60, 50)            20200     \n",
            "_________________________________________________________________\n",
            "dropout_1 (Dropout)          (None, 60, 50)            0         \n",
            "_________________________________________________________________\n",
            "unified_lstm_2 (UnifiedLSTM) (None, 60, 50)            20200     \n",
            "_________________________________________________________________\n",
            "dropout_2 (Dropout)          (None, 60, 50)            0         \n",
            "_________________________________________________________________\n",
            "unified_lstm_3 (UnifiedLSTM) (None, 50)                20200     \n",
            "_________________________________________________________________\n",
            "dropout_3 (Dropout)          (None, 50)                0         \n",
            "_________________________________________________________________\n",
            "dense (Dense)                (None, 1)                 51        \n",
            "=================================================================\n",
            "Total params: 71,051\n",
            "Trainable params: 71,051\n",
            "Non-trainable params: 0\n",
            "_________________________________________________________________\n",
            "None\n"
          ]
        }
      ],
      "source": [
        "print(model.summary())"
      ]
    },
    {
      "cell_type": "code",
      "execution_count": 0,
      "metadata": {
        "colab": {},
        "colab_type": "code",
        "id": "5W-xbus6hr3B"
      },
      "outputs": [],
      "source": [
        "#tf.keras.utils.plot_model(model, to_file='my_model.png')\n"
      ]
    },
    {
      "cell_type": "code",
      "execution_count": 0,
      "metadata": {
        "colab": {},
        "colab_type": "code",
        "id": "Dh55JJQwpK5-"
      },
      "outputs": [],
      "source": [
        "# Run tensorboard with the logdir\n",
        "#import os\n",
        "#LOG_BASE_DIR = './log'\n",
        "#os.makedirs(LOG_BASE_DIR, exist_ok=True)"
      ]
    },
    {
      "cell_type": "code",
      "execution_count": 0,
      "metadata": {
        "colab": {},
        "colab_type": "code",
        "id": "z8f8PuP0tuxv"
      },
      "outputs": [],
      "source": [
        "#!ls -l log"
      ]
    },
    {
      "cell_type": "markdown",
      "metadata": {
        "colab_type": "text",
        "id": "MtpzRCsqvjnQ"
      },
      "source": [
        "## Load the Colab TensorBoard extention and start TensorBoard inline"
      ]
    },
    {
      "cell_type": "code",
      "execution_count": 0,
      "metadata": {
        "colab": {},
        "colab_type": "code",
        "id": "AxpGbuaSr9uc"
      },
      "outputs": [],
      "source": [
        "#%load_ext tensorboard.notebook\n",
        "#%tensorboard --logdir {LOG_BASE_DIR}"
      ]
    },
    {
      "cell_type": "markdown",
      "metadata": {
        "colab_type": "text",
        "id": "KG7MP-S0oVAv"
      },
      "source": [
        "## Define a TensorBoard callback"
      ]
    },
    {
      "cell_type": "code",
      "execution_count": 0,
      "metadata": {
        "colab": {},
        "colab_type": "code",
        "id": "Ju7MktT7sX1s"
      },
      "outputs": [],
      "source": [
        "#import datetime\n",
        "#logdir = os.path.join(LOG_BASE_DIR, datetime.datetime.now().strftime(\"%Y%m%d-%H%M%S\"))"
      ]
    },
    {
      "cell_type": "code",
      "execution_count": 0,
      "metadata": {
        "colab": {},
        "colab_type": "code",
        "id": "eUl1ilfJnYrR"
      },
      "outputs": [],
      "source": [
        "#from tensorflow.keras.callbacks import TensorBoard\n",
        "\n",
        "#tbCallBack = TensorBoard(logdir,histogram_freq=1)"
      ]
    },
    {
      "cell_type": "markdown",
      "metadata": {
        "colab_type": "text",
        "id": "TVtDPeEZGmqP"
      },
      "source": [
        "The model will be compiled and optimize by the adam optimizer and set the loss function as mean_squarred_error"
      ]
    },
    {
      "cell_type": "code",
      "execution_count": 0,
      "metadata": {
        "colab": {},
        "colab_type": "code",
        "id": "lj9k7R5UFrqO"
      },
      "outputs": [],
      "source": [
        "model.compile(optimizer = 'adam', loss = 'mean_squared_error')"
      ]
    },
    {
      "cell_type": "code",
      "execution_count": 0,
      "metadata": {
        "colab": {},
        "colab_type": "code",
        "id": "eW4rvRXENWYC"
      },
      "outputs": [],
      "source": [
        "#import os\n",
        "#print(os.environ)"
      ]
    },
    {
      "cell_type": "code",
      "execution_count": 0,
      "metadata": {
        "colab": {},
        "colab_type": "code",
        "id": "3pMuiSsIOAJa"
      },
      "outputs": [],
      "source": [
        "#tf.test.gpu_device_name()"
      ]
    },
    {
      "cell_type": "code",
      "execution_count": 0,
      "metadata": {
        "colab": {},
        "colab_type": "code",
        "id": "k3Od5nUSVlJ6"
      },
      "outputs": [],
      "source": [
        "#from tensorflow.python.client import device_lib\n",
        "#device_lib.list_local_devices()"
      ]
    },
    {
      "cell_type": "code",
      "execution_count": 33,
      "metadata": {
        "colab": {
          "base_uri": "https://localhost:8080/",
          "height": 1020
        },
        "colab_type": "code",
        "id": "vdatQv4CTSvn",
        "outputId": "09e206c3-5194-4c31-e5fb-775654f7cc33"
      },
      "outputs": [
        {
          "name": "stdout",
          "output_type": "stream",
          "text": [
            "Epoch 1/20\n",
            "9534/9534 [==============================] - 19s 2ms/sample - loss: 0.0017\n",
            "Epoch 2/20\n",
            "9534/9534 [==============================] - 17s 2ms/sample - loss: 8.3861e-04\n",
            "Epoch 3/20\n",
            "9534/9534 [==============================] - 17s 2ms/sample - loss: 8.4889e-04\n",
            "Epoch 4/20\n",
            "9534/9534 [==============================] - 17s 2ms/sample - loss: 6.7823e-04\n",
            "Epoch 5/20\n",
            "9534/9534 [==============================] - 17s 2ms/sample - loss: 6.0230e-04\n",
            "Epoch 6/20\n",
            "9534/9534 [==============================] - 17s 2ms/sample - loss: 5.9530e-04\n",
            "Epoch 7/20\n",
            "9534/9534 [==============================] - 17s 2ms/sample - loss: 5.6053e-04\n",
            "Epoch 8/20\n",
            "9534/9534 [==============================] - 18s 2ms/sample - loss: 5.6923e-04\n",
            "Epoch 9/20\n",
            "9534/9534 [==============================] - 17s 2ms/sample - loss: 4.9843e-04\n",
            "Epoch 10/20\n",
            "9534/9534 [==============================] - 17s 2ms/sample - loss: 5.7040e-04\n",
            "Epoch 11/20\n",
            "9534/9534 [==============================] - 17s 2ms/sample - loss: 4.5142e-04\n",
            "Epoch 12/20\n",
            "9534/9534 [==============================] - 17s 2ms/sample - loss: 5.1318e-04\n",
            "Epoch 13/20\n",
            "9534/9534 [==============================] - 17s 2ms/sample - loss: 4.6513e-04\n",
            "Epoch 14/20\n",
            "9534/9534 [==============================] - 17s 2ms/sample - loss: 4.5369e-04\n",
            "Epoch 15/20\n",
            "9534/9534 [==============================] - 17s 2ms/sample - loss: 4.3363e-04\n",
            "Epoch 16/20\n",
            "9534/9534 [==============================] - 17s 2ms/sample - loss: 4.8583e-04\n",
            "Epoch 17/20\n",
            "9534/9534 [==============================] - 17s 2ms/sample - loss: 5.3111e-04\n",
            "Epoch 18/20\n",
            "9534/9534 [==============================] - 17s 2ms/sample - loss: 4.6322e-04\n",
            "Epoch 19/20\n",
            "9534/9534 [==============================] - 17s 2ms/sample - loss: 4.5440e-04\n",
            "Epoch 20/20\n",
            "9534/9534 [==============================] - 17s 2ms/sample - loss: 4.6059e-04\n"
          ]
        }
      ],
      "source": [
        "from time import time\n",
        "start = time()\n",
        "history = model.fit(features, labels, epochs = 20, batch_size = 32, verbose = 1)\n",
        "end = time()"
      ]
    },
    {
      "cell_type": "code",
      "execution_count": 34,
      "metadata": {
        "colab": {
          "base_uri": "https://localhost:8080/",
          "height": 76
        },
        "colab_type": "code",
        "id": "CMjYNddpWzrs",
        "outputId": "b15440ab-e26f-4e02-a479-6bab89512118"
      },
      "outputs": [
        {
          "name": "stdout",
          "output_type": "stream",
          "text": [
            "Total training time 349.84911346435547 seconds\n"
          ]
        }
      ],
      "source": [
        "print('Total training time {} seconds'.format(end - start))"
      ]
    },
    {
      "cell_type": "code",
      "execution_count": 38,
      "metadata": {
        "colab": {
          "base_uri": "https://localhost:8080/",
          "height": 76
        },
        "colab_type": "code",
        "id": "0jX-nM6dfJSp",
        "outputId": "6e80dbe3-6699-4863-9931-10540f7fcce9"
      },
      "outputs": [
        {
          "name": "stdout",
          "output_type": "stream",
          "text": [
            "(9534, 60, 1)\n"
          ]
        }
      ],
      "source": [
        "#  [samples, days, features]\n",
        "print(features.shape)"
      ]
    },
    {
      "cell_type": "code",
      "execution_count": 0,
      "metadata": {
        "colab": {},
        "colab_type": "code",
        "id": "yztm7-PfI_zx"
      },
      "outputs": [],
      "source": [
        "testing_start_date = '2019-01-01'\n",
        "testing_end_date = '2019-04-10'\n",
        "\n",
        "test_stock_data = data.get_data_yahoo(tickers, testing_start_date, testing_end_date)"
      ]
    },
    {
      "cell_type": "code",
      "execution_count": 49,
      "metadata": {
        "colab": {
          "base_uri": "https://localhost:8080/",
          "height": 280
        },
        "colab_type": "code",
        "id": "VXVbTnlWd1iY",
        "outputId": "d17ae639-1e8a-49ea-e593-c13d0e3fdea3"
      },
      "outputs": [
        {
          "data": {
            "text/html": [
              "<div>\n",
              "<style scoped>\n",
              "    .dataframe tbody tr th:only-of-type {\n",
              "        vertical-align: middle;\n",
              "    }\n",
              "\n",
              "    .dataframe tbody tr th {\n",
              "        vertical-align: top;\n",
              "    }\n",
              "\n",
              "    .dataframe thead th {\n",
              "        text-align: right;\n",
              "    }\n",
              "</style>\n",
              "<table border=\"1\" class=\"dataframe\">\n",
              "  <thead>\n",
              "    <tr style=\"text-align: right;\">\n",
              "      <th></th>\n",
              "      <th>High</th>\n",
              "      <th>Low</th>\n",
              "      <th>Open</th>\n",
              "      <th>Close</th>\n",
              "      <th>Volume</th>\n",
              "      <th>Adj Close</th>\n",
              "    </tr>\n",
              "    <tr>\n",
              "      <th>Date</th>\n",
              "      <th></th>\n",
              "      <th></th>\n",
              "      <th></th>\n",
              "      <th></th>\n",
              "      <th></th>\n",
              "      <th></th>\n",
              "    </tr>\n",
              "  </thead>\n",
              "  <tbody>\n",
              "    <tr>\n",
              "      <th>2019-04-04</th>\n",
              "      <td>196.369995</td>\n",
              "      <td>193.139999</td>\n",
              "      <td>194.789993</td>\n",
              "      <td>195.690002</td>\n",
              "      <td>19114300.0</td>\n",
              "      <td>195.690002</td>\n",
              "    </tr>\n",
              "    <tr>\n",
              "      <th>2019-04-05</th>\n",
              "      <td>197.100006</td>\n",
              "      <td>195.929993</td>\n",
              "      <td>196.449997</td>\n",
              "      <td>197.000000</td>\n",
              "      <td>18526600.0</td>\n",
              "      <td>197.000000</td>\n",
              "    </tr>\n",
              "    <tr>\n",
              "      <th>2019-04-08</th>\n",
              "      <td>200.229996</td>\n",
              "      <td>196.339996</td>\n",
              "      <td>196.419998</td>\n",
              "      <td>200.100006</td>\n",
              "      <td>25881700.0</td>\n",
              "      <td>200.100006</td>\n",
              "    </tr>\n",
              "    <tr>\n",
              "      <th>2019-04-09</th>\n",
              "      <td>202.850006</td>\n",
              "      <td>199.229996</td>\n",
              "      <td>200.320007</td>\n",
              "      <td>199.500000</td>\n",
              "      <td>35768200.0</td>\n",
              "      <td>199.500000</td>\n",
              "    </tr>\n",
              "    <tr>\n",
              "      <th>2019-04-10</th>\n",
              "      <td>200.740005</td>\n",
              "      <td>198.179993</td>\n",
              "      <td>198.679993</td>\n",
              "      <td>200.619995</td>\n",
              "      <td>21695300.0</td>\n",
              "      <td>200.619995</td>\n",
              "    </tr>\n",
              "  </tbody>\n",
              "</table>\n",
              "</div>"
            ],
            "text/plain": [
              "                  High         Low        Open       Close      Volume  \\\n",
              "Date                                                                     \n",
              "2019-04-04  196.369995  193.139999  194.789993  195.690002  19114300.0   \n",
              "2019-04-05  197.100006  195.929993  196.449997  197.000000  18526600.0   \n",
              "2019-04-08  200.229996  196.339996  196.419998  200.100006  25881700.0   \n",
              "2019-04-09  202.850006  199.229996  200.320007  199.500000  35768200.0   \n",
              "2019-04-10  200.740005  198.179993  198.679993  200.619995  21695300.0   \n",
              "\n",
              "             Adj Close  \n",
              "Date                    \n",
              "2019-04-04  195.690002  \n",
              "2019-04-05  197.000000  \n",
              "2019-04-08  200.100006  \n",
              "2019-04-09  199.500000  \n",
              "2019-04-10  200.619995  "
            ]
          },
          "execution_count": 49,
          "metadata": {
            "tags": []
          },
          "output_type": "execute_result"
        }
      ],
      "source": [
        "test_stock_data.tail()"
      ]
    },
    {
      "cell_type": "code",
      "execution_count": 0,
      "metadata": {
        "colab": {},
        "colab_type": "code",
        "id": "1iaY63cEJzTD"
      },
      "outputs": [],
      "source": [
        "test_stock_data_processed = test_stock_data.iloc[:, 1:2].values\n"
      ]
    },
    {
      "cell_type": "code",
      "execution_count": 41,
      "metadata": {
        "colab": {
          "base_uri": "https://localhost:8080/",
          "height": 76
        },
        "colab_type": "code",
        "id": "QdBH51wlaost",
        "outputId": "489e52a8-d787-4a3e-dc91-51a71cc56558"
      },
      "outputs": [
        {
          "name": "stdout",
          "output_type": "stream",
          "text": [
            "(69, 1)\n"
          ]
        }
      ],
      "source": [
        "print(test_stock_data_processed.shape)"
      ]
    },
    {
      "cell_type": "code",
      "execution_count": 0,
      "metadata": {
        "colab": {},
        "colab_type": "code",
        "id": "q66EIEAXb1Pw"
      },
      "outputs": [],
      "source": [
        "all_stock_data = pd.concat((stock_data['Close'], test_stock_data['Close']), axis = 0)"
      ]
    },
    {
      "cell_type": "code",
      "execution_count": 0,
      "metadata": {
        "colab": {},
        "colab_type": "code",
        "id": "ugpDI3hkc8Eo"
      },
      "outputs": [],
      "source": [
        "inputs = all_stock_data[len(all_stock_data) - len(test_stock_data) - 60:].values\n",
        "inputs = inputs.reshape(-1,1)\n",
        "inputs = sc.transform(inputs)"
      ]
    },
    {
      "cell_type": "code",
      "execution_count": 0,
      "metadata": {
        "colab": {},
        "colab_type": "code",
        "id": "EMsXM9nEdDXS"
      },
      "outputs": [],
      "source": [
        "X_test = []\n",
        "for i in range(60, 129):\n",
        "    X_test.append(inputs[i-60:i, 0])"
      ]
    },
    {
      "cell_type": "code",
      "execution_count": 0,
      "metadata": {
        "colab": {},
        "colab_type": "code",
        "id": "JBo5fWfwek9K"
      },
      "outputs": [],
      "source": [
        "X_test = np.array(X_test)\n",
        "X_test = np.reshape(X_test, (X_test.shape[0], X_test.shape[1], 1))\n",
        "predicted_stock_price = model.predict(X_test)\n",
        "predicted_stock_price = sc.inverse_transform(predicted_stock_price)"
      ]
    },
    {
      "cell_type": "code",
      "execution_count": 62,
      "metadata": {
        "colab": {
          "base_uri": "https://localhost:8080/",
          "height": 424
        },
        "colab_type": "code",
        "id": "EuEl7MRrdLUK",
        "outputId": "f0bc8c11-19c2-4eb4-af11-6189fcab8721"
      },
      "outputs": [
        {
          "data": {
            "image/png": "[encoded data removed]",
            "text/plain": [
              "<Figure size 720x432 with 1 Axes>"
            ]
          },
          "metadata": {
            "tags": []
          },
          "output_type": "display_data"
        }
      ],
      "source": [
        "plt.figure(figsize=(10,6))  \n",
        "plt.plot(test_stock_data_processed, color='blue', label='Actual Apple Stock Price')  \n",
        "plt.plot(predicted_stock_price , color='red', label='Predicted Apple Stock Price')  \n",
        "plt.title('Apple Stock Price Prediction')  \n",
        "plt.xlabel('Date')  \n",
        "plt.ylabel('Apple Stock Price')  \n",
        "plt.legend()  \n",
        "plt.show()  "
      ]
    },
    {
      "cell_type": "code",
      "execution_count": 0,
      "metadata": {
        "colab": {},
        "colab_type": "code",
        "id": "IgIl5LKMKgU4"
      },
      "outputs": [],
      "source": [
        "#inputs = inputs.reshape(-1,1)\n",
        "#inputs = sc.transform(inputs)\n",
        "\n",
        "\n",
        "test_inputs = test_stock_data_processed.reshape(-1,1)\n",
        "test_inputs = sc.transform(test_inputs)\n",
        "\n",
        "\n",
        "print(test_inputs.shape)"
      ]
    },
    {
      "cell_type": "code",
      "execution_count": 0,
      "metadata": {
        "colab": {},
        "colab_type": "code",
        "id": "1o-fpVjsdPiR"
      },
      "outputs": [],
      "source": [
        "test_features = []\n",
        "for i in range(60, 291):\n",
        "    test_features.append(test_inputs[i-60:i, 0])\n",
        "    \n",
        "test_features = np.array(test_features)"
      ]
    },
    {
      "cell_type": "code",
      "execution_count": 0,
      "metadata": {
        "colab": {},
        "colab_type": "code",
        "id": "EFQQ4Hkhcp2b"
      },
      "outputs": [],
      "source": [
        "test_features = np.reshape(test_features, (test_features.shape[0], test_features.shape[1], 1))  \n",
        "print(test_features.shape)"
      ]
    },
    {
      "cell_type": "code",
      "execution_count": 0,
      "metadata": {
        "colab": {},
        "colab_type": "code",
        "id": "TkGzHUBzKuGl"
      },
      "outputs": [],
      "source": [
        "predicted_stock_price = model.predict(test_features)"
      ]
    },
    {
      "cell_type": "code",
      "execution_count": 0,
      "metadata": {
        "colab": {},
        "colab_type": "code",
        "id": "FZ4hDjOXgmBX"
      },
      "outputs": [],
      "source": [
        "predicted_stock_price = sc.inverse_transform(predicted_stock_price)\n",
        "print(predicted_stock_price.shape)"
      ]
    },
    {
      "cell_type": "code",
      "execution_count": 0,
      "metadata": {
        "colab": {},
        "colab_type": "code",
        "id": "Fz-mr1dT1Omh"
      },
      "outputs": [],
      "source": [
        "print(test_stock_data_processed.shape)"
      ]
    },
    {
      "cell_type": "code",
      "execution_count": 0,
      "metadata": {
        "colab": {},
        "colab_type": "code",
        "id": "Alsqt3-lgsfj"
      },
      "outputs": [],
      "source": [
        "plt.figure(figsize=(10,6))  \n",
        "plt.plot(test_stock_data_processed, color='blue', label='Actual Apple Stock Price')  \n",
        "plt.plot(predicted_stock_price , color='red', label='Predicted Apple Stock Price')  \n",
        "plt.title('Apple Stock Price Prediction')  \n",
        "plt.xlabel('Date')  \n",
        "plt.ylabel('Apple Stock Price')  \n",
        "plt.legend()  \n",
        "plt.show()  "
      ]
    },
    {
      "cell_type": "markdown",
      "metadata": {
        "colab_type": "text",
        "id": "mPYS78ikjcIa"
      },
      "source": [
        "## Download the model and the weights"
      ]
    },
    {
      "cell_type": "code",
      "execution_count": 0,
      "metadata": {
        "colab": {},
        "colab_type": "code",
        "id": "knvmvzsZjN1r"
      },
      "outputs": [],
      "source": [
        "from google.colab import files"
      ]
    },
    {
      "cell_type": "code",
      "execution_count": 0,
      "metadata": {
        "colab": {},
        "colab_type": "code",
        "id": "zlfsWuIPi48Y"
      },
      "outputs": [],
      "source": [
        "model_json = model.to_json()\n",
        "with open(\"model.json\", \"w\") as json_file:\n",
        "  json_file.write(model_json)"
      ]
    },
    {
      "cell_type": "code",
      "execution_count": 0,
      "metadata": {
        "colab": {},
        "colab_type": "code",
        "id": "t_Zig-9ojIQK"
      },
      "outputs": [],
      "source": [
        "files.download(\"model.json\")"
      ]
    },
    {
      "cell_type": "code",
      "execution_count": 0,
      "metadata": {
        "colab": {},
        "colab_type": "code",
        "id": "VQBt2bNCjVGb"
      },
      "outputs": [],
      "source": [
        "model.save('weights.h5')\n",
        "files.download('weights.h5')"
      ]
    }
  ],
  "metadata": {
    "accelerator": "GPU",
    "colab": {
      "collapsed_sections": [
        "mPYS78ikjcIa"
      ],
      "include_colab_link": true,
      "name": "stock-price-prediction-keras.ipynb",
      "provenance": [],
      "version": "0.3.2"
    },
    "kernelspec": {
      "display_name": "Python 3",
      "name": "python3"
    }
  },
  "nbformat": 4,
  "nbformat_minor": 0
}
